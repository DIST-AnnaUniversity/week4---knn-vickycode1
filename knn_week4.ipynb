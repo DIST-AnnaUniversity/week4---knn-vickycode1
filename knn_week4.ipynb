{
  "nbformat": 4,
  "nbformat_minor": 0,
  "metadata": {
    "colab": {
      "provenance": []
    },
    "kernelspec": {
      "name": "python3",
      "display_name": "Python 3"
    },
    "language_info": {
      "name": "python"
    }
  },
  "cells": [
    {
      "cell_type": "code",
      "execution_count": 9,
      "metadata": {
        "id": "tk0QZ5r1EDlx"
      },
      "outputs": [],
      "source": [
        "import pandas as pd\n",
        "import matplotlib.pyplot as plt\n",
        "import numpy as np\n",
        "data=pd.read_csv(\"knn_csv.csv\")"
      ]
    },
    {
      "cell_type": "code",
      "source": [
        "x=data.iloc[:,:-1].values\n",
        "y=data.iloc[:,-1].values\n",
        "print(x)\n",
        "print(y)"
      ],
      "metadata": {
        "colab": {
          "base_uri": "https://localhost:8080/"
        },
        "id": "VgU3RWVtFO5I",
        "outputId": "4cf82dac-5881-4501-dbf1-272f5f9399bb"
      },
      "execution_count": 12,
      "outputs": [
        {
          "output_type": "stream",
          "name": "stdout",
          "text": [
            "[[158  58]\n",
            " [158  59]\n",
            " [158  63]\n",
            " [160  59]\n",
            " [160  60]\n",
            " [163  60]\n",
            " [163  61]\n",
            " [160  64]\n",
            " [163  64]\n",
            " [165  61]\n",
            " [165  62]\n",
            " [165  65]\n",
            " [168  62]\n",
            " [168  63]\n",
            " [168  66]\n",
            " [170  63]\n",
            " [170  64]\n",
            " [170  68]]\n",
            "['M' 'M' 'M' 'M' 'M' 'M' 'M' 'L' 'L' 'L' 'L' 'L' 'L' 'L' 'L' 'L' 'L' 'L']\n"
          ]
        }
      ]
    },
    {
      "cell_type": "code",
      "source": [
        "from sklearn.preprocessing import LabelEncoder\n",
        "le=LabelEncoder()\n",
        "y=le.fit_transform(y)\n",
        "print(y)"
      ],
      "metadata": {
        "colab": {
          "base_uri": "https://localhost:8080/"
        },
        "id": "3fytcUFCGO4e",
        "outputId": "ef532bf6-5e40-44b9-b5fe-1d5d93aafe04"
      },
      "execution_count": 14,
      "outputs": [
        {
          "output_type": "stream",
          "name": "stdout",
          "text": [
            "[1 1 1 1 1 1 1 0 0 0 0 0 0 0 0 0 0 0]\n"
          ]
        }
      ]
    },
    {
      "cell_type": "code",
      "source": [
        "from sklearn.model_selection import train_test_split\n",
        "x_train,x_test,y_train,y_test=train_test_split(x,y,test_size=0.25)\n",
        "print(x_test)\n",
        "print(y_test)\n",
        "print(x_train)\n",
        "print(y_train)"
      ],
      "metadata": {
        "colab": {
          "base_uri": "https://localhost:8080/"
        },
        "id": "-ANgoOdzG892",
        "outputId": "31a14494-d9ba-4f06-937d-1c5375a87062"
      },
      "execution_count": 19,
      "outputs": [
        {
          "output_type": "stream",
          "name": "stdout",
          "text": [
            "[[163  60]\n",
            " [168  63]\n",
            " [158  63]\n",
            " [165  61]\n",
            " [170  63]]\n",
            "[1 0 1 0 0]\n",
            "[[170  64]\n",
            " [168  62]\n",
            " [160  60]\n",
            " [168  66]\n",
            " [163  64]\n",
            " [163  61]\n",
            " [165  62]\n",
            " [165  65]\n",
            " [170  68]\n",
            " [160  64]\n",
            " [158  59]\n",
            " [158  58]\n",
            " [160  59]]\n",
            "[0 0 1 0 0 1 0 0 0 0 1 1 1]\n"
          ]
        }
      ]
    },
    {
      "cell_type": "code",
      "source": [
        "from sklearn.preprocessing import StandardScaler\n",
        "sc=StandardScaler()\n",
        "x=sc.fit_transform(x_train)\n",
        "y=sc.fit_transform(x_test)\n",
        "print(x)\n",
        "print(y)"
      ],
      "metadata": {
        "colab": {
          "base_uri": "https://localhost:8080/"
        },
        "id": "S2uASH35IstW",
        "outputId": "3056aa43-7e6a-4c52-fd09-e09061548124"
      },
      "execution_count": 25,
      "outputs": [
        {
          "output_type": "stream",
          "name": "stdout",
          "text": [
            "[[ 1.51025441  0.53074489]\n",
            " [ 1.03139326 -0.15922347]\n",
            " [-0.88405136 -0.84919183]\n",
            " [ 1.03139326  1.22071325]\n",
            " [-0.16575963  0.53074489]\n",
            " [-0.16575963 -0.50420765]\n",
            " [ 0.31310152 -0.15922347]\n",
            " [ 0.31310152  0.87572907]\n",
            " [ 1.51025441  1.91068161]\n",
            " [-0.88405136  0.53074489]\n",
            " [-1.36291252 -1.19417601]\n",
            " [-1.36291252 -1.53916019]\n",
            " [-0.88405136 -1.19417601]]\n",
            "[[-0.43201382 -1.58113883]\n",
            " [ 0.76802458  0.79056942]\n",
            " [-1.63205223  0.79056942]\n",
            " [ 0.04800154 -0.79056942]\n",
            " [ 1.24803994  0.79056942]]\n"
          ]
        }
      ]
    },
    {
      "cell_type": "code",
      "source": [
        "from sklearn.neighbors import KNeighborsClassifier\n",
        "kn = KNeighborsClassifier()\n",
        "kn.fit(x_train,y_train)"
      ],
      "metadata": {
        "colab": {
          "base_uri": "https://localhost:8080/"
        },
        "id": "PLDZt8cpKBw2",
        "outputId": "e07922f9-9768-4ae2-f166-7365f90fe781"
      },
      "execution_count": 26,
      "outputs": [
        {
          "output_type": "execute_result",
          "data": {
            "text/plain": [
              "KNeighborsClassifier()"
            ]
          },
          "metadata": {},
          "execution_count": 26
        }
      ]
    },
    {
      "cell_type": "code",
      "source": [
        "print(kn.predict(sc.transform([[161,61]])))"
      ],
      "metadata": {
        "colab": {
          "base_uri": "https://localhost:8080/"
        },
        "id": "ePRVFnQAKZO1",
        "outputId": "e9e2981f-6d62-4897-bc2c-47d2496b3fac"
      },
      "execution_count": 27,
      "outputs": [
        {
          "output_type": "stream",
          "name": "stdout",
          "text": [
            "[1]\n"
          ]
        }
      ]
    }
  ]
}