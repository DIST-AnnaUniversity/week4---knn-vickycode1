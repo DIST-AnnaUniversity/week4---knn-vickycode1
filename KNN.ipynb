{
  "nbformat": 4,
  "nbformat_minor": 0,
  "metadata": {
    "colab": {
      "provenance": []
    },
    "kernelspec": {
      "name": "python3",
      "display_name": "Python 3"
    },
    "language_info": {
      "name": "python"
    }
  },
  "cells": [
    {
      "cell_type": "code",
      "execution_count": null,
      "metadata": {
        "id": "J20gdlBY7XpT"
      },
      "outputs": [],
      "source": [
        "import pandas as pd\n",
        "import math\n",
        "size=pd.read_csv(\"knn csv.csv\")\n",
        "\n"
      ]
    },
    {
      "cell_type": "code",
      "source": [
        "height=size[[\"Height\"]]\n",
        "print(height)\n",
        "h = size.iloc[:,0].values\n",
        "print(h)\n",
        "w= size.iloc[:,1].values\n",
        "print(w)\n"
      ],
      "metadata": {
        "colab": {
          "base_uri": "https://localhost:8080/"
        },
        "id": "39JciFlwC1Bo",
        "outputId": "16f499dd-0e80-43ef-a9c4-14ec071fcbb3"
      },
      "execution_count": null,
      "outputs": [
        {
          "output_type": "stream",
          "name": "stdout",
          "text": [
            "    Height\n",
            "0      158\n",
            "1      158\n",
            "2      158\n",
            "3      160\n",
            "4      160\n",
            "5      163\n",
            "6      163\n",
            "7      160\n",
            "8      163\n",
            "9      165\n",
            "10     165\n",
            "11     165\n",
            "12     168\n",
            "13     168\n",
            "14     168\n",
            "15     170\n",
            "16     170\n",
            "17     170\n",
            "[158 158 158 160 160 163 163 160 163 165 165 165 168 168 168 170 170 170]\n",
            "[58 59 63 59 60 60 61 64 64 61 62 65 62 63 66 63 64 68]\n"
          ]
        }
      ]
    },
    {
      "cell_type": "code",
      "source": [
        "test=[161,61]\n",
        "print(test)"
      ],
      "metadata": {
        "colab": {
          "base_uri": "https://localhost:8080/"
        },
        "id": "M6M04YZXD7rA",
        "outputId": "e432abff-0274-4483-a364-12c358993bda"
      },
      "execution_count": null,
      "outputs": [
        {
          "output_type": "stream",
          "name": "stdout",
          "text": [
            "[161, 61]\n"
          ]
        }
      ]
    },
    {
      "cell_type": "code",
      "source": [
        "d = []\n",
        "d1=0\n",
        "d2=0\n",
        "for i in range(0,len(h)):\n",
        "  d1=(161-h[i])**2\n",
        "  d2=(61-w[i])**2\n",
        "  a=math.sqrt(d1+d2)\n",
        "  d.append(round(a,2))\n",
        "print(d)"
      ],
      "metadata": {
        "colab": {
          "base_uri": "https://localhost:8080/"
        },
        "id": "UubarGS3Dhjw",
        "outputId": "d5540267-d7a2-47ce-815f-0d1207610a42"
      },
      "execution_count": null,
      "outputs": [
        {
          "output_type": "stream",
          "name": "stdout",
          "text": [
            "[4.24, 3.61, 3.61, 2.24, 1.41, 2.24, 2.0, 3.16, 3.61, 4.0, 4.12, 5.66, 7.07, 7.28, 8.6, 9.22, 9.49, 11.4]\n"
          ]
        }
      ]
    },
    {
      "cell_type": "code",
      "source": [
        "d.sort()\n",
        "print(d[0:5])"
      ],
      "metadata": {
        "colab": {
          "base_uri": "https://localhost:8080/"
        },
        "id": "2whYxV-3F-aQ",
        "outputId": "a5692024-4749-4b2d-afb6-da744f6cd470"
      },
      "execution_count": null,
      "outputs": [
        {
          "output_type": "stream",
          "name": "stdout",
          "text": [
            "[1.41, 2.0, 2.24, 2.24, 3.16]\n"
          ]
        }
      ]
    }
  ]
}